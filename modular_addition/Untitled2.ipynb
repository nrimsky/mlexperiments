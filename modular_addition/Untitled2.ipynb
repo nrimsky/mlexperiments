{
 "cells": [
  {
   "cell_type": "code",
   "execution_count": 4,
   "id": "be740341",
   "metadata": {},
   "outputs": [
    {
     "data": {
      "text/plain": [
       "0"
      ]
     },
     "execution_count": 4,
     "metadata": {},
     "output_type": "execute_result"
    }
   ],
   "source": [
    "pow(0,2,5)"
   ]
  },
  {
   "cell_type": "code",
   "execution_count": 155,
   "id": "2b725c7f",
   "metadata": {},
   "outputs": [],
   "source": [
    "l = []"
   ]
  },
  {
   "cell_type": "code",
   "execution_count": 124,
   "id": "b44784f4",
   "metadata": {},
   "outputs": [],
   "source": [
    "import matplotlib.pyplot as plt"
   ]
  },
  {
   "cell_type": "code",
   "execution_count": 175,
   "id": "a17541db",
   "metadata": {},
   "outputs": [
    {
     "name": "stdout",
     "output_type": "stream",
     "text": [
      "The largest eigenvalue in absolute value is: 13.422162878469345\n"
     ]
    },
    {
     "data": {
      "image/png": "[encoded data removed]",
      "text/plain": [
       "<Figure size 640x480 with 1 Axes>"
      ]
     },
     "metadata": {},
     "output_type": "display_data"
    }
   ],
   "source": [
    "import numpy as np\n",
    "from scipy.linalg import eigvals\n",
    "\n",
    "# Generate a 100x100 random Gaussian matrix\n",
    "N = 900\n",
    "pow = 1.2\n",
    "eps = N**(-pow)\n",
    "A = np.random.choice([-eps, 1-eps], size=(N, N), p=[1-eps, eps])/np.sqrt(eps*(1-eps))\n",
    "\n",
    "# Compute eigenvalues\n",
    "eigenvalues = eigvals(A)\n",
    "\n",
    "# Find the largest eigenvalue in absolute value\n",
    "largest_eigenvalue = np.max(np.abs(eigenvalues))\n",
    "l.append(largest_eigenvalue)\n",
    "print(f\"The largest eigenvalue in absolute value is: {largest_eigenvalue}\")\n",
    "plt.hist(l, bins=50)\n",
    "plt.show()"
   ]
  },
  {
   "cell_type": "code",
   "execution_count": null,
   "id": "b00f5bbc",
   "metadata": {},
   "outputs": [],
   "source": [
    "import numpy as np\n",
    "from sympy import factorint\n",
    "\n",
    "\n",
    "def hadamard_matrix(n):\n",
    "    \"\"\"\n",
    "    Generate a Hadamard matrix of order 2^n x 2^n.\n",
    "    \"\"\"\n",
    "    if n == 0:\n",
    "        return np.array([[1]])\n",
    "    else:\n",
    "        H_n_minus_1 = hadamard_matrix(n-1)\n",
    "        top_row = np.hstack([H_n_minus_1, H_n_minus_1])\n",
    "        bottom_row = np.hstack([H_n_minus_1, -H_n_minus_1])\n",
    "        return np.vstack([top_row, bottom_row])\n",
    "\n",
    "def matrix_permanent(mat):\n",
    "    \"\"\"\n",
    "    Compute the permanent of a matrix.\n",
    "    \"\"\"\n",
    "    n = len(mat)\n",
    "    if n == 1:\n",
    "        return mat[0][0]\n",
    "    \n",
    "    permanent = 0\n",
    "    for j in range(n):\n",
    "        sub_mat = np.delete(np.delete(mat, 0, axis=0), j, axis=1)\n",
    "        permanent += mat[0, j] * matrix_permanent(sub_mat)\n",
    "        \n",
    "    return permanent\n",
    "def ryser_permanent(mat):\n",
    "    n = mat.shape[0]\n",
    "    permanent = 0\n",
    "    for k in range(1 << n):\n",
    "        product = 1\n",
    "        for j in range(n):\n",
    "            s = 0\n",
    "            for i in range(n):\n",
    "                if k & (1 << i):\n",
    "                    s += mat[i, j]\n",
    "            product *= s\n",
    "        if bin(k).count('1') % 2 == 0:\n",
    "            permanent += product\n",
    "        else:\n",
    "            permanent -= product\n",
    "    return permanent\n",
    "\n",
    "n = 5  # For a 2^n x 2^n Hadamard matrix\n",
    "H = hadamard_matrix(n)\n",
    "# perm = matrix_permanent(H)\n",
    "r_perm = ryser_permanent(H)\n",
    "print(r_perm, factorint(r_perm))\n",
    "#print(f\"Permanent of Hadamard matrix: {perm}, factorization: {factorint(perm)}\")\n"
   ]
  },
  {
   "cell_type": "code",
   "execution_count": null,
   "id": "bfbf36c3",
   "metadata": {},
   "outputs": [],
   "source": [
    "from sympy import factorint\n",
    "factorint(384)"
   ]
  },
  {
   "cell_type": "code",
   "execution_count": 185,
   "id": "32d90b71",
   "metadata": {},
   "outputs": [
    {
     "data": {
      "text/plain": [
       "384"
      ]
     },
     "execution_count": 185,
     "metadata": {},
     "output_type": "execute_result"
    }
   ],
   "source": [
    "2**7*3"
   ]
  }
 ],
 "metadata": {
  "kernelspec": {
   "display_name": "Python 3 (ipykernel)",
   "language": "python",
   "name": "python3"
  },
  "language_info": {
   "codemirror_mode": {
    "name": "ipython",
    "version": 3
   },
   "file_extension": ".py",
   "mimetype": "text/x-python",
   "name": "python",
   "nbconvert_exporter": "python",
   "pygments_lexer": "ipython3",
   "version": "3.10.11"
  }
 },
 "nbformat": 4,
 "nbformat_minor": 5
}
