{
 "cells": [
  {
   "cell_type": "code",
   "execution_count": 1,
   "id": "48cef69b",
   "metadata": {},
   "outputs": [],
   "source": [
    "l = [1,2,3,2]"
   ]
  },
  {
   "cell_type": "code",
   "execution_count": 2,
   "id": "99470628",
   "metadata": {},
   "outputs": [
    {
     "data": {
      "text/plain": [
       "[1, 2, 3]"
      ]
     },
     "execution_count": 2,
     "metadata": {},
     "output_type": "execute_result"
    }
   ],
   "source": [
    "list(set(l))"
   ]
  },
  {
   "cell_type": "code",
   "execution_count": 3,
   "id": "a4e02117",
   "metadata": {},
   "outputs": [],
   "source": [
    "s = set(l)"
   ]
  },
  {
   "cell_type": "code",
   "execution_count": 5,
   "id": "8bc35d04",
   "metadata": {},
   "outputs": [],
   "source": [
    "l += [37-i for i in l]"
   ]
  },
  {
   "cell_type": "code",
   "execution_count": 6,
   "id": "cc0b84fb",
   "metadata": {},
   "outputs": [
    {
     "data": {
      "text/plain": [
       "[1, 2, 3, 2, 36, 35, 34, 35]"
      ]
     },
     "execution_count": 6,
     "metadata": {},
     "output_type": "execute_result"
    }
   ],
   "source": [
    "l"
   ]
  },
  {
   "cell_type": "code",
   "execution_count": 7,
   "id": "01fd804e",
   "metadata": {},
   "outputs": [],
   "source": [
    "from sympy.ntheory import discrete_log\n",
    "\n",
    "def residues_to_powers(residues, mod, generator):\n",
    "    powers = []\n",
    "    for r in residues:\n",
    "        power = discrete_log(mod, r, generator)\n",
    "        powers.append(power)\n",
    "    return powers\n",
    "\t\n",
    "def log_residues(residues, mod, generator):\n",
    "\tresidues += [mod - r for r in residues]\n",
    "\tresidues = list(set(residues))\n",
    "\tpowers = residues_to_powers(residues, mod, generator)\n",
    "\treturn powers"
   ]
  },
  {
   "cell_type": "code",
   "execution_count": 8,
   "id": "61509152",
   "metadata": {},
   "outputs": [
    {
     "data": {
      "text/plain": [
       "[27, 30, 4, 17, 35, 22, 12, 9]"
      ]
     },
     "execution_count": 8,
     "metadata": {},
     "output_type": "execute_result"
    }
   ],
   "source": [
    "log_residues([6,11,16,18], 37, 2)"
   ]
  },
  {
   "cell_type": "code",
   "execution_count": 9,
   "id": "3099ba6e",
   "metadata": {},
   "outputs": [
    {
     "data": {
      "text/plain": [
       "6"
      ]
     },
     "execution_count": 9,
     "metadata": {},
     "output_type": "execute_result"
    }
   ],
   "source": [
    "2**27 %37"
   ]
  }
 ],
 "metadata": {
  "kernelspec": {
   "display_name": "Python 3 (ipykernel)",
   "language": "python",
   "name": "python3"
  },
  "language_info": {
   "codemirror_mode": {
    "name": "ipython",
    "version": 3
   },
   "file_extension": ".py",
   "mimetype": "text/x-python",
   "name": "python",
   "nbconvert_exporter": "python",
   "pygments_lexer": "ipython3",
   "version": "3.10.11"
  }
 },
 "nbformat": 4,
 "nbformat_minor": 5
}
