{
 "cells": [
  {
   "cell_type": "code",
   "execution_count": 4,
   "id": "27561421",
   "metadata": {},
   "outputs": [
    {
     "data": {
      "text/plain": [
       "0"
      ]
     },
     "execution_count": 4,
     "metadata": {},
     "output_type": "execute_result"
    }
   ],
   "source": [
    "pow(0,2,5)"
   ]
  },
  {
   "cell_type": "code",
   "execution_count": 12,
   "id": "079ff28a",
   "metadata": {},
   "outputs": [
    {
     "name": "stdout",
     "output_type": "stream",
     "text": [
      "The largest eigenvalue in absolute value is: 40.4510317972264\n"
     ]
    }
   ],
   "source": [
    "import numpy as np\n",
    "from scipy.linalg import eigvals\n",
    "\n",
    "# Generate a 100x100 random Gaussian matrix\n",
    "N = 900\n",
    "pow = 0.1\n",
    "eps = N**(-pow)\n",
    "A = np.random.choice([-eps, 1-eps], size=(N, N), p=[1-eps, eps])/np.sqrt(eps*(1-eps))\n",
    "\n",
    "# Compute eigenvalues\n",
    "eigenvalues = eigvals(A)\n",
    "\n",
    "# Find the largest eigenvalue in absolute value\n",
    "largest_eigenvalue = np.max(np.abs(eigenvalues))\n",
    "\n",
    "print(f\"The largest eigenvalue in absolute value is: {largest_eigenvalue}\")\n"
   ]
  }
 ],
 "metadata": {
  "kernelspec": {
   "display_name": "Python 3 (ipykernel)",
   "language": "python",
   "name": "python3"
  },
  "language_info": {
   "codemirror_mode": {
    "name": "ipython",
    "version": 3
   },
   "file_extension": ".py",
   "mimetype": "text/x-python",
   "name": "python",
   "nbconvert_exporter": "python",
   "pygments_lexer": "ipython3",
   "version": "3.10.11"
  }
 },
 "nbformat": 4,
 "nbformat_minor": 5
}
